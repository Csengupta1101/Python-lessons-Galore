{
 "cells": [
  {
   "cell_type": "markdown",
   "metadata": {},
   "source": [
    "##### 1. Write a program to create interger, string, float variables in single line and print the type of each variables"
   ]
  },
  {
   "cell_type": "code",
   "execution_count": 4,
   "metadata": {},
   "outputs": [
    {
     "name": "stdout",
     "output_type": "stream",
     "text": [
      "<class 'int'>\n",
      "<class 'str'>\n",
      "<class 'float'>\n"
     ]
    }
   ],
   "source": [
    "a, b, c = 1, 'python', 3.7\n",
    "\n",
    "# a is integer variable, b, is string variable and c is float variable\n",
    "\n",
    "print(type(a))\n",
    "print(type(b))\n",
    "print(type(c))"
   ]
  },
  {
   "cell_type": "code",
   "execution_count": 5,
   "metadata": {},
   "outputs": [
    {
     "name": "stdout",
     "output_type": "stream",
     "text": [
      "variable a is : <class 'int'>\n",
      "variable b is : <class 'str'>\n",
      "variable c is : <class 'float'>\n"
     ]
    }
   ],
   "source": [
    "# let's print type of each declared variables\n",
    "\n",
    "print(f'variable a is : {type(a)}')\n",
    "print(f'variable b is : {type(b)}')\n",
    "print(f'variable c is : {type(c)}')"
   ]
  },
  {
   "cell_type": "markdown",
   "metadata": {},
   "source": [
    "##### 2. Write a program to swap two variables without using temporary variable"
   ]
  },
  {
   "cell_type": "code",
   "execution_count": 3,
   "metadata": {},
   "outputs": [
    {
     "name": "stdout",
     "output_type": "stream",
     "text": [
      "The value of x after swapping: Great\n",
      "The value of y after swapping: 5\n"
     ]
    }
   ],
   "source": [
    "x = 5\n",
    "y = 'Great'\n",
    "\n",
    "#we have integer variable in 'x' and string variable in 'y'\n",
    "#let's swap them without using temporaty variable\n",
    "\n",
    "x, y = y, x\n",
    "\n",
    "print(f'The value of x after swapping: {x}')\n",
    "print(f'The value of y after swapping: {y}')"
   ]
  },
  {
   "cell_type": "code",
   "execution_count": 4,
   "metadata": {},
   "outputs": [
    {
     "name": "stdout",
     "output_type": "stream",
     "text": [
      "variable s1 has a value : 45\n",
      "datatype of variable s1 : <class 'str'>\n"
     ]
    }
   ],
   "source": [
    "print(f'variable s1 has a value : {s1}')\n",
    "print(f'datatype of variable s1 : {type(s1)}')"
   ]
  },
  {
   "cell_type": "markdown",
   "metadata": {},
   "source": [
    "##### 3. Write a Python program to calculate the length of a string with out using inbuilt finction"
   ]
  },
  {
   "cell_type": "code",
   "execution_count": 1,
   "metadata": {},
   "outputs": [
    {
     "name": "stdout",
     "output_type": "stream",
     "text": [
      "10\n"
     ]
    }
   ],
   "source": [
    "def string_length(str1):\n",
    "    count = 0\n",
    "    for char in str1:\n",
    "        count += 1\n",
    "    return count\n",
    "print(string_length('dataisgood'))"
   ]
  }
 ],
 "metadata": {
  "kernelspec": {
   "display_name": "Python 3",
   "language": "python",
   "name": "python3"
  },
  "language_info": {
   "codemirror_mode": {
    "name": "ipython",
    "version": 3
   },
   "file_extension": ".py",
   "mimetype": "text/x-python",
   "name": "python",
   "nbconvert_exporter": "python",
   "pygments_lexer": "ipython3",
   "version": "3.6.8"
  }
 },
 "nbformat": 4,
 "nbformat_minor": 4
}
