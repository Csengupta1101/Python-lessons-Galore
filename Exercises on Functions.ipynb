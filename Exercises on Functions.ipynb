{
 "cells": [
  {
   "cell_type": "markdown",
   "metadata": {},
   "source": [
    "##### 1. Write python functions to do the following tasks\n",
    "* Define a function that takes an integer argument. Make that function return the cube of that input integer argument. And name this function as “cube”.\n",
    "* Define a second function that takes an integer argument. if that argument is divisible by 3, call cube function and return its result. Otherwise, print a statement that the input is not divisible by 3."
   ]
  },
  {
   "cell_type": "code",
   "execution_count": 47,
   "metadata": {},
   "outputs": [
    {
     "name": "stdout",
     "output_type": "stream",
     "text": [
      "Enter a number to check: 5\n",
      "entered value is not divisible by 3\n",
      "Enter a number to check: 9\n",
      "Cube of enterd input is : 729\n"
     ]
    }
   ],
   "source": [
    "for i in range(2):\n",
    "    def cube(number):\n",
    "        return number**3\n",
    "    def by_three(number):\n",
    "        if number %3 ==0:\n",
    "            print(f'Cube of enterd input is : {cube(number)}')\n",
    "        else:\n",
    "            print ('entered value is not divisible by 3')\n",
    "\n",
    "    n=int(input('Enter a number to check: '))\n",
    "    by_three(n)"
   ]
  },
  {
   "cell_type": "markdown",
   "metadata": {},
   "source": [
    "##### 2. Write a python function to prompt the user to calculate the gross pay for hours and rates per hour. Take into account that the factory gives the employee 1.5 times the hourly rate for hours worked above 40 hours."
   ]
  },
  {
   "cell_type": "code",
   "execution_count": 51,
   "metadata": {
    "scrolled": true
   },
   "outputs": [
    {
     "name": "stdout",
     "output_type": "stream",
     "text": [
      "Enter worked hours:45\n",
      "the pay is: 475.0\n"
     ]
    }
   ],
   "source": [
    "def computepay(hours,rate):\n",
    "    if hours < 40:\n",
    "       pay=hours*rate\n",
    "       print (\"the pay is:\", pay)\n",
    "    else:\n",
    "       pay = 40 * rate + (hours-40)*1.5*rate\n",
    "       print (\"the pay is:\", pay)\n",
    "\n",
    "hours=input(\"Enter worked hours:\")\n",
    "hours=float(hours)\n",
    "rate=10\n",
    "computepay(hours,rate)"
   ]
  },
  {
   "cell_type": "markdown",
   "metadata": {},
   "source": [
    "##### 3. Write python functions to calculate your trip's costs:\n",
    "\n",
    "* Define a function for hotel cost with one argument nights as input. The hotel costs Rs. 2500 per night. So, the function should return the spent amount respective to the number of night stays.\n",
    "* Define a function for plane cost that takes a city, as input. The function should return a different price depending on the location, similar to the code example above. Below are the valid destinations and their corresponding round-trip prices.\n",
    "  * \"Chennai\": Rs. 1800\n",
    "  * \"Hyderabad\": Rs. 2200\n",
    "  * \"Noida\": Rs. 4220\n",
    "  * \"Bangalore\": Rs. 2075\n",
    "* Define a function for rental car cost with input days. Calculate the cost of renting the car: Every day you rent the car costs Rs. 450. if you rent the car for 7 or more days, you get Rs. 500 off your total. Return that cost.\n",
    "\n",
    "* Then, define a function to calculate the total trip_cost and disply the total money spent."
   ]
  },
  {
   "cell_type": "code",
   "execution_count": 41,
   "metadata": {},
   "outputs": [
    {
     "name": "stdout",
     "output_type": "stream",
     "text": [
      "Enter nights:3\n",
      "Enter city:Noida\n",
      "Enter days of car rental:4\n",
      "Total amount spent during the trip: 16020\n"
     ]
    }
   ],
   "source": [
    "nights=int(input(\"Enter nights:\"))\n",
    "city=input(\"Enter city:\")\n",
    "days=int(input(\"Enter days of car rental:\"))\n",
    "\n",
    "def hotel_cost(nights):\n",
    "    return 2500*nights\n",
    "\n",
    "def plane_ride_cost(city):\n",
    "    if city==\"Chennai\":\n",
    "        return 1800\n",
    "    elif city==\"Hyderabad\":\n",
    "        return 2200\n",
    "    elif city==\"Noida\":\n",
    "        return 4220\n",
    "    elif city==\"Bangalore\":\n",
    "        return 2075\n",
    "\n",
    "def rental_car_cost(days):\n",
    "    cost=days*450\n",
    "    if days >= 7:\n",
    "        cost -= 500\n",
    "    return cost\n",
    "\n",
    "def trip_cost(city,days):\n",
    "    return (rental_car_cost(days)+hotel_cost(days)+plane_ride_cost(city))\n",
    "\n",
    "print(f'Total amount spent during the trip: {trip_cost(city,days)}')"
   ]
  }
 ],
 "metadata": {
  "kernelspec": {
   "display_name": "Python 3",
   "language": "python",
   "name": "python3"
  },
  "language_info": {
   "codemirror_mode": {
    "name": "ipython",
    "version": 3
   },
   "file_extension": ".py",
   "mimetype": "text/x-python",
   "name": "python",
   "nbconvert_exporter": "python",
   "pygments_lexer": "ipython3",
   "version": "3.6.8"
  }
 },
 "nbformat": 4,
 "nbformat_minor": 4
}
