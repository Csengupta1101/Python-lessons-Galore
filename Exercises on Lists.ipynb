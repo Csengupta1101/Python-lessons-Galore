{
 "cells": [
  {
   "cell_type": "markdown",
   "metadata": {},
   "source": [
    "##### 1. Get 2 user input lists and get the difference between the two lists."
   ]
  },
  {
   "cell_type": "code",
   "execution_count": 49,
   "metadata": {},
   "outputs": [
    {
     "name": "stdout",
     "output_type": "stream",
     "text": [
      "Enter the length of 2 lists: 5\n",
      "Enter element number 1  for list l1: 1\n",
      "Enter element number 2  for list l1: 6\n",
      "Enter element number 3  for list l1: 9\n",
      "Enter element number 4  for list l1: 7\n",
      "Enter element number 5  for list l1: 3\n",
      "Enter element number 1  for list l2: 7\n",
      "Enter element number 2  for list l2: 3\n",
      "Enter element number 3  for list l2: 9\n",
      "Enter element number 4  for list l2: 1\n",
      "Enter element number 5  for list l2: 8\n",
      "Elements in 2 lists ([1, 6, 9, 7, 3], [7, 3, 9, 1, 8])\n",
      "difference between the two lists [6, 8]\n"
     ]
    }
   ],
   "source": [
    "n= int(input('Enter the length of 2 lists: '))\n",
    "l1, l2 = [], []\n",
    "\n",
    "for i in range(n):\n",
    "    a=int(input(f'Enter element number {i+1}  for list l1: '))\n",
    "    l1.append(a)\n",
    "\n",
    "for i in range(n):\n",
    "    b=int(input(f'Enter element number {i+1}  for list l2: '))\n",
    "    l2.append(b)\n",
    "\n",
    "print (f'Elements in 2 lists {l1, l2}')\n",
    "\n",
    "diff_l1_l2 = list(set(l1) - set(l2))\n",
    "diff_l2_l1 = list(set(l2) - set(l1))\n",
    "total_diff = diff_l1_l2 + diff_l2_l1\n",
    "\n",
    "print(f'difference between the two lists {total_diff}')"
   ]
  },
  {
   "cell_type": "markdown",
   "metadata": {},
   "source": [
    "##### 2. Get a user input for a list and print the sorted list without using inbulit function"
   ]
  },
  {
   "cell_type": "code",
   "execution_count": 4,
   "metadata": {},
   "outputs": [
    {
     "name": "stdout",
     "output_type": "stream",
     "text": [
      "Enter the length of list: 6\n",
      "Enter element number 1  for list: 65\n",
      "Enter element number 2  for list: 653\n",
      "Enter element number 3  for list: 16\n",
      "Enter element number 4  for list: 53\n",
      "Enter element number 5  for list: 26\n",
      "Enter element number 6  for list: 856\n",
      "list before sorting: [65, 653, 16, 53, 26, 856]\n",
      "list after sorting: [16, 26, 53, 65, 653, 856]\n"
     ]
    }
   ],
   "source": [
    "n= int(input('Enter the length of list: '))\n",
    "list1=[]\n",
    "for i in range(n):\n",
    "    a=int(input(f'Enter element number {i+1}  for list: '))\n",
    "    list1.append(a)\n",
    "new_list = []\n",
    "\n",
    "print(f'list before sorting: {list1}')\n",
    "while list1:\n",
    "    mini = list1[0]  # arbitrary number in list \n",
    "    for x in list1: \n",
    "        if x < mini:\n",
    "            mini = x\n",
    "    new_list.append(mini)\n",
    "    list1.remove(mini)\n",
    "\n",
    "print(f'list after sorting: {new_list}')\n"
   ]
  },
  {
   "cell_type": "markdown",
   "metadata": {},
   "source": [
    "##### 3.Get 2 lists from user of same length. Iterate both lists simultaneously such that list1 should display item in original order and list2 in reverse order"
   ]
  },
  {
   "cell_type": "code",
   "execution_count": 9,
   "metadata": {},
   "outputs": [
    {
     "name": "stdout",
     "output_type": "stream",
     "text": [
      "Enter the length of 2 lists: 6\n",
      "Enter element number 1  for list l1: 4\n",
      "Enter element number 2  for list l1: 2\n",
      "Enter element number 3  for list l1: 5\n",
      "Enter element number 4  for list l1: 9\n",
      "Enter element number 5  for list l1: 7\n",
      "Enter element number 6  for list l1: 3\n",
      "\n",
      "\n",
      "Enter element number 1  for list l2: 4\n",
      "Enter element number 2  for list l2: 5\n",
      "Enter element number 3  for list l2: 6\n",
      "Enter element number 4  for list l2: 8\n",
      "Enter element number 5  for list l2: 2\n",
      "Enter element number 6  for list l2: 1\n",
      "\n",
      "ist one is in actual order and 2nd one is in reverse order\n",
      "4 1\n",
      "2 2\n",
      "5 8\n",
      "9 6\n",
      "7 5\n",
      "3 4\n"
     ]
    }
   ],
   "source": [
    "n= int(input('Enter the length of 2 lists: '))\n",
    "l1, l2 = [], []\n",
    "\n",
    "for i in range(n):\n",
    "    a=int(input(f'Enter element number {i+1}  for list l1: '))\n",
    "    l1.append(a)\n",
    "print(\"\\n\")\n",
    "for i in range(n):\n",
    "    b=int(input(f'Enter element number {i+1}  for list l2: '))\n",
    "    l2.append(b)\n",
    "\n",
    "    \n",
    "print('\\nist one is in actual order and 2nd one is in reverse order')\n",
    "for x, y in zip(l1, l2[::-1]):\n",
    "    print(x, y)"
   ]
  },
  {
   "cell_type": "code",
   "execution_count": null,
   "metadata": {},
   "outputs": [],
   "source": []
  }
 ],
 "metadata": {
  "kernelspec": {
   "display_name": "Python 3",
   "language": "python",
   "name": "python3"
  },
  "language_info": {
   "codemirror_mode": {
    "name": "ipython",
    "version": 3
   },
   "file_extension": ".py",
   "mimetype": "text/x-python",
   "name": "python",
   "nbconvert_exporter": "python",
   "pygments_lexer": "ipython3",
   "version": "3.6.8"
  }
 },
 "nbformat": 4,
 "nbformat_minor": 4
}
