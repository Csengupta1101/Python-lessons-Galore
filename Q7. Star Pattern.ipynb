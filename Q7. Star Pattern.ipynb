{
 "cells": [
  {
   "cell_type": "raw",
   "id": "e8977f69",
   "metadata": {},
   "source": [
    "Explanation\n",
    "\n",
    "We will run a loop for 5 time as the bottom layer has 5 stars\n",
    "We will execute the loop in a way where with each loop being run , one * will be added on the below\n",
    "first loop  -  (i=0)+1 = * (one *)\n",
    "Second loop -  (i=1)+1 = ** (two *)\n",
    "Third loop  -  (i=2)+1 = *** (three *)\n",
    "fourth loop -  (i=3)+1 = **** (four *)\n",
    "fifth loop  -  (i=4)+1 = ***** (five *)"
   ]
  },
  {
   "cell_type": "code",
   "execution_count": 2,
   "id": "6882e035",
   "metadata": {},
   "outputs": [
    {
     "name": "stdout",
     "output_type": "stream",
     "text": [
      "*\n",
      "**\n",
      "***\n",
      "****\n",
      "*****\n"
     ]
    }
   ],
   "source": [
    "i=0\n",
    "for i in range(5):\n",
    "    print('*'*(i+1))"
   ]
  },
  {
   "cell_type": "code",
   "execution_count": null,
   "id": "e092b24b",
   "metadata": {},
   "outputs": [],
   "source": []
  }
 ],
 "metadata": {
  "kernelspec": {
   "display_name": "Python 3",
   "language": "python",
   "name": "python3"
  },
  "language_info": {
   "codemirror_mode": {
    "name": "ipython",
    "version": 3
   },
   "file_extension": ".py",
   "mimetype": "text/x-python",
   "name": "python",
   "nbconvert_exporter": "python",
   "pygments_lexer": "ipython3",
   "version": "3.6.8"
  }
 },
 "nbformat": 4,
 "nbformat_minor": 5
}
