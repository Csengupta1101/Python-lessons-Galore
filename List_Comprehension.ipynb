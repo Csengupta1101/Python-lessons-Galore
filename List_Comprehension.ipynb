{
  "nbformat": 4,
  "nbformat_minor": 0,
  "metadata": {
    "colab": {
      "name": "List Comprehension.ipynb",
      "provenance": [],
      "collapsed_sections": []
    },
    "kernelspec": {
      "name": "python3",
      "display_name": "Python 3"
    },
    "language_info": {
      "name": "python"
    }
  },
  "cells": [
    {
      "cell_type": "code",
      "metadata": {
        "id": "oSvq_ioD7qrf"
      },
      "source": [
        "#List Comprehension"
      ],
      "execution_count": 1,
      "outputs": []
    },
    {
      "cell_type": "code",
      "metadata": {
        "colab": {
          "base_uri": "https://localhost:8080/"
        },
        "id": "pCEcj6Im7tir",
        "outputId": "3d42e261-2c30-46cd-e6c6-a57d975b1a6b"
      },
      "source": [
        "List1 = [56,97,51,13,58,713,22,34]\n",
        "Even_List = [i for i in List1 if i%2 == 0]\n",
        "Odd_List = [i for i in List1 if i%2 == 1]\n",
        "print(Even_List)\n",
        "print(Odd_List)"
      ],
      "execution_count": 3,
      "outputs": [
        {
          "output_type": "stream",
          "name": "stdout",
          "text": [
            "[56, 58, 22, 34]\n",
            "[97, 51, 13, 713]\n"
          ]
        }
      ]
    },
    {
      "cell_type": "code",
      "metadata": {
        "id": "SEeItZzi87n7"
      },
      "source": [
        ""
      ],
      "execution_count": null,
      "outputs": []
    }
  ]
}