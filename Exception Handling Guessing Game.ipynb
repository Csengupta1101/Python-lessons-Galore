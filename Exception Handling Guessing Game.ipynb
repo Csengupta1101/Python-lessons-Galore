{
 "cells": [
  {
   "cell_type": "code",
   "execution_count": 1,
   "id": "9a1aadd5",
   "metadata": {},
   "outputs": [],
   "source": [
    "#handling exception\n",
    "#guessing game\n",
    "\n",
    "from random import randrange"
   ]
  },
  {
   "cell_type": "code",
   "execution_count": null,
   "id": "89bad422",
   "metadata": {},
   "outputs": [
    {
     "name": "stdout",
     "output_type": "stream",
     "text": [
      "comp has chosen , it's your turn\n",
      "your input is: 52\n",
      "bigger\n",
      "Thanks for playing\n",
      "your input is: 5636\n",
      "smaller\n",
      "Thanks for playing\n",
      "your input is: kjghj\n",
      "your input has resulted an errorinvalid literal for int() with base 10: 'kjghj'\n",
      "Thanks for playing\n"
     ]
    }
   ],
   "source": [
    "n = randrange(1000)\n",
    "print(\"comp has chosen , it's your turn\")\n",
    "while True:\n",
    "    try:\n",
    "        v = int(input('your input is: '))\n",
    "        if n == v:\n",
    "            print('You have won')\n",
    "            break\n",
    "        print('smaller' if (n<v) else 'bigger')\n",
    "    except Exception as e:\n",
    "        print(f'your input has resulted an error{e}')"
   ]
  },
  {
   "cell_type": "code",
   "execution_count": null,
   "id": "b0f91409",
   "metadata": {},
   "outputs": [],
   "source": []
  },
  {
   "cell_type": "code",
   "execution_count": null,
   "id": "539e5585",
   "metadata": {},
   "outputs": [],
   "source": []
  }
 ],
 "metadata": {
  "kernelspec": {
   "display_name": "Python 3",
   "language": "python",
   "name": "python3"
  },
  "language_info": {
   "codemirror_mode": {
    "name": "ipython",
    "version": 3
   },
   "file_extension": ".py",
   "mimetype": "text/x-python",
   "name": "python",
   "nbconvert_exporter": "python",
   "pygments_lexer": "ipython3",
   "version": "3.6.8"
  }
 },
 "nbformat": 4,
 "nbformat_minor": 5
}
