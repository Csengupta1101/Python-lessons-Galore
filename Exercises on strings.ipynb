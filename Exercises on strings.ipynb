{
 "cells": [
  {
   "cell_type": "markdown",
   "metadata": {},
   "source": [
    "##### 1. write a program to print the user input (day, month, year) in the form “Entered Date: dd/mm/yyyy”"
   ]
  },
  {
   "cell_type": "code",
   "execution_count": 8,
   "metadata": {
    "scrolled": true
   },
   "outputs": [
    {
     "name": "stdout",
     "output_type": "stream",
     "text": [
      "Enter day: 01\n",
      "Enter month: 01\n",
      "Enter year: 2021\n",
      "Entered Date: 01/01/2021\n"
     ]
    }
   ],
   "source": [
    "day=input('Enter day: ')\n",
    "month = input('Enter month: ')\n",
    "year = input('Enter year: ')\n",
    "print(f'Entered Date: {day}/{month}/{year}')"
   ]
  },
  {
   "cell_type": "markdown",
   "metadata": {},
   "source": [
    "###### 2. write a program to capitalize the given string input ( 'python is good' --> 'Python Is Good' )"
   ]
  },
  {
   "cell_type": "code",
   "execution_count": 2,
   "metadata": {},
   "outputs": [
    {
     "name": "stdout",
     "output_type": "stream",
     "text": [
      "Enter the given input value: python is good\n",
      "Python Is Good\n"
     ]
    }
   ],
   "source": [
    "def cap(s):\n",
    "    for x in s.split():\n",
    "        s = s.replace(x, x.capitalize())\n",
    "    print(s)\n",
    "s= input('Enter the given input value: ')\n",
    "cap(s)"
   ]
  },
  {
   "cell_type": "markdown",
   "metadata": {},
   "source": [
    "##### 3. Write a python program to mutate a string variable"
   ]
  },
  {
   "cell_type": "code",
   "execution_count": 11,
   "metadata": {},
   "outputs": [
    {
     "name": "stdout",
     "output_type": "stream",
     "text": [
      "Enter a string: Octbber\n",
      "Enter the index value: 3\n",
      "Enter the character to be added in the index value: o\n",
      "October\n"
     ]
    }
   ],
   "source": [
    "#Get a string input and a index positon value, change the character at a given index and then print the modified string\n",
    "string = input('Enter a string: ')\n",
    "ind = int(input('Enter the index value: '))\n",
    "char = input('Enter the character to be added in the index value: ')\n",
    "\n",
    "l = list(string)\n",
    "l[ind] = char\n",
    "string = ''.join(l)\n",
    "print(string)"
   ]
  },
  {
   "cell_type": "code",
   "execution_count": null,
   "metadata": {},
   "outputs": [],
   "source": []
  }
 ],
 "metadata": {
  "kernelspec": {
   "display_name": "Python 3",
   "language": "python",
   "name": "python3"
  },
  "language_info": {
   "codemirror_mode": {
    "name": "ipython",
    "version": 3
   },
   "file_extension": ".py",
   "mimetype": "text/x-python",
   "name": "python",
   "nbconvert_exporter": "python",
   "pygments_lexer": "ipython3",
   "version": "3.8.3"
  }
 },
 "nbformat": 4,
 "nbformat_minor": 4
}
