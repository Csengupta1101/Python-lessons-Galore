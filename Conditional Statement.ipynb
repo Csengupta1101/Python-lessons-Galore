{
 "cells": [
  {
   "cell_type": "code",
   "execution_count": 1,
   "id": "876c543c",
   "metadata": {},
   "outputs": [
    {
     "name": "stdout",
     "output_type": "stream",
     "text": [
      "long way to go\n"
     ]
    }
   ],
   "source": [
    "#string values\n",
    "\n",
    "a = 830\n",
    "b = 831\n",
    "c = 782\n",
    "\n",
    "if a>= b: print (\"its done\")\n",
    "else : print (\"long way to go\")"
   ]
  },
  {
   "cell_type": "code",
   "execution_count": 1,
   "id": "17301aaf",
   "metadata": {},
   "outputs": [
    {
     "name": "stdout",
     "output_type": "stream",
     "text": [
      "a is equal to c\n",
      "a is inferior to b\n",
      "b is superior to c\n"
     ]
    }
   ],
   "source": [
    "#string values\n",
    "\n",
    "a = 783\n",
    "b = 831\n",
    "c = 783\n",
    "\n",
    "if a>c : print (\"a is superior to c\")\n",
    "if a==c : print (\"a is equal to c\")\n",
    "if a<b : print (\"a is inferior to b\")\n",
    "if b>c : print (\"b is superior to c\")\n",
    "else : print (\"nothing else matters\")"
   ]
  },
  {
   "cell_type": "code",
   "execution_count": null,
   "id": "c9801b4f",
   "metadata": {},
   "outputs": [],
   "source": [
    "#string values\n",
    "\n",
    "a = 7\n",
    "b = 6\n",
    "c = 8\n",
    "\n",
    "if a>c : print (\"a is superior to c\")\n",
    "if a==c : print (\"a is equal to c\")\n",
    "if a<b : print (\"a is inferior to b\")\n",
    "if b>c : print (\"b is superior to c\")\n",
    "else : print (\"nothing else matters\")"
   ]
  },
  {
   "cell_type": "code",
   "execution_count": 22,
   "id": "9d706d14",
   "metadata": {},
   "outputs": [
    {
     "name": "stdout",
     "output_type": "stream",
     "text": [
      "a is equal to c\n"
     ]
    }
   ],
   "source": [
    "#string values\n",
    "\n",
    "a = 783\n",
    "b = 831\n",
    "c = 783\n",
    "\n",
    "if a>c : print (\"a is superior to c\")\n",
    "elif a==c : print (\"a is equal to c\")\n",
    "elif a<b : print (\"a is inferior to b\")\n",
    "elif b>c : print (\"b is superior to c\")\n",
    "else : print (\"nothing else matters\")"
   ]
  },
  {
   "cell_type": "code",
   "execution_count": 3,
   "id": "7cb7b486",
   "metadata": {},
   "outputs": [
    {
     "name": "stdout",
     "output_type": "stream",
     "text": [
      "Above ten,\n",
      "but not above 20.\n"
     ]
    }
   ],
   "source": [
    "#string values\n",
    "x = 15\n",
    "\n",
    "if x > 10:\n",
    "    print(\"Above ten,\")\n",
    "    if x > 20:\n",
    "        print(\"and also above 20!\")\n",
    "        if x > 50:\n",
    "            print(\"90\")\n",
    "        else:\n",
    "            print('not 90')\n",
    "    else:\n",
    "        print(\"but not above 20.\")\n",
    "else:\n",
    "    print(\"Nothing is true\")"
   ]
  },
  {
   "cell_type": "code",
   "execution_count": null,
   "id": "ad359611",
   "metadata": {},
   "outputs": [],
   "source": [
    "a = 40\n",
    "b = 831\n",
    "c = 783\n",
    "\n",
    "if a>=b : print (\"pass\")\n",
    "else : print (\"fail\")"
   ]
  },
  {
   "cell_type": "code",
   "execution_count": null,
   "id": "3c0f676b",
   "metadata": {},
   "outputs": [],
   "source": [
    "x = 4\n",
    "while x <= 40 : \n",
    "    print (x)\n",
    "x = x + 4"
   ]
  },
  {
   "cell_type": "code",
   "execution_count": 10,
   "id": "679f40c7",
   "metadata": {},
   "outputs": [
    {
     "name": "stdout",
     "output_type": "stream",
     "text": [
      "1.7333333333333334\n",
      "1.0\n"
     ]
    },
    {
     "data": {
      "text/plain": [
       "456"
      ]
     },
     "execution_count": 10,
     "metadata": {},
     "output_type": "execute_result"
    }
   ],
   "source": [
    "x = 5.2\n",
    "y = 3\n",
    "\n",
    "print (x/y)\n",
    "print (x//y)\n",
    "abs (-456)"
   ]
  },
  {
   "cell_type": "code",
   "execution_count": 2,
   "id": "9b30d4cc",
   "metadata": {},
   "outputs": [
    {
     "data": {
      "text/plain": [
       "6"
      ]
     },
     "execution_count": 2,
     "metadata": {},
     "output_type": "execute_result"
    }
   ],
   "source": [
    "round (3.7856454 ,2)\n",
    "import math\n",
    "math.ceil (5.4) \n"
   ]
  },
  {
   "cell_type": "code",
   "execution_count": 4,
   "id": "19313d40",
   "metadata": {},
   "outputs": [
    {
     "data": {
      "text/plain": [
       "1"
      ]
     },
     "execution_count": 4,
     "metadata": {},
     "output_type": "execute_result"
    }
   ],
   "source": [
    "100%3"
   ]
  },
  {
   "cell_type": "code",
   "execution_count": 9,
   "id": "3a42bc23",
   "metadata": {},
   "outputs": [
    {
     "name": "stdout",
     "output_type": "stream",
     "text": [
      "120\n",
      "240\n",
      "480\n",
      "960\n",
      "1920\n",
      "3840\n",
      "7680\n"
     ]
    }
   ],
   "source": [
    "s = 120\n",
    "while s <= 10000 :\n",
    "    print (s)\n",
    "    s = s * 2"
   ]
  },
  {
   "cell_type": "code",
   "execution_count": 18,
   "id": "e1a76fe7",
   "metadata": {},
   "outputs": [
    {
     "name": "stdout",
     "output_type": "stream",
     "text": [
      "Hello,I Am Harry Sengupta\n"
     ]
    }
   ],
   "source": [
    "#statement\n",
    "\n",
    "First_name='Harry'\n",
    "Last_name='Sengupta'\n",
    "\n",
    "print('Hello,I Am {} {}'.format(First_name,Last_name))"
   ]
  },
  {
   "cell_type": "code",
   "execution_count": 26,
   "id": "5387e825",
   "metadata": {},
   "outputs": [
    {
     "name": "stdout",
     "output_type": "stream",
     "text": [
      "my name is Nidhi sengupta prasad.\n"
     ]
    }
   ],
   "source": [
    "#Variable declaring\n",
    "\n",
    "first_name = 'Nidhi' \n",
    "middle_name = 'sengupta'\n",
    "last_name = 'prasad'\n",
    "\n",
    "print(\"my name is {0} {1} {2}.\".format(first_name,middle_name,last_name))"
   ]
  },
  {
   "cell_type": "code",
   "execution_count": 40,
   "id": "50ec3304",
   "metadata": {},
   "outputs": [
    {
     "name": "stdout",
     "output_type": "stream",
     "text": [
      "my name is 0. I am 1 years old.\n"
     ]
    }
   ],
   "source": [
    "fn= 'Joy'\n",
    "age= 33\n",
    "\n",
    "print(f'my name is {fn}. I am {age} years old.')"
   ]
  },
  {
   "cell_type": "code",
   "execution_count": 50,
   "id": "d56b1e18",
   "metadata": {},
   "outputs": [
    {
     "data": {
      "text/plain": [
       "'MOVIE'"
      ]
     },
     "execution_count": 50,
     "metadata": {},
     "output_type": "execute_result"
    }
   ],
   "source": [
    "x = 'movie'\n",
    "x.capitalize()\n",
    "x.lower()\n",
    "x.upper()"
   ]
  },
  {
   "cell_type": "code",
   "execution_count": 56,
   "id": "d8baefeb",
   "metadata": {},
   "outputs": [
    {
     "name": "stdout",
     "output_type": "stream",
     "text": [
      "harryronhermione\n"
     ]
    }
   ],
   "source": [
    "x= (\"harry\", \"ron\", \"hermione\")\n",
    "x = \"\".join(x)\n",
    "print(x)"
   ]
  },
  {
   "cell_type": "code",
   "execution_count": 58,
   "id": "5f14a1ec",
   "metadata": {},
   "outputs": [
    {
     "data": {
      "text/plain": [
       "12"
      ]
     },
     "execution_count": 58,
     "metadata": {},
     "output_type": "execute_result"
    }
   ],
   "source": [
    "x = (\"peter parker\")\n",
    "len(x)"
   ]
  },
  {
   "cell_type": "code",
   "execution_count": 64,
   "id": "ce466ab3",
   "metadata": {},
   "outputs": [
    {
     "data": {
      "text/plain": [
       "0"
      ]
     },
     "execution_count": 64,
     "metadata": {},
     "output_type": "execute_result"
    }
   ],
   "source": [
    "s = \"harry potter is a wizard\"\n",
    "s.find(\"harry\")"
   ]
  },
  {
   "cell_type": "code",
   "execution_count": 7,
   "id": "fcdf78e8",
   "metadata": {},
   "outputs": [
    {
     "name": "stdout",
     "output_type": "stream",
     "text": [
      "x is divisble by 3\n"
     ]
    }
   ],
   "source": [
    "x = 9\n",
    "if ('x%3 = 0'):\n",
    "      print (\"x is divisble by 3\")\n",
    "else :\n",
    "       print (\"x is not divisible by 3\")"
   ]
  },
  {
   "cell_type": "code",
   "execution_count": 13,
   "id": "35d99cfb",
   "metadata": {},
   "outputs": [
    {
     "data": {
      "text/plain": [
       "['', '', '', 'chandan', 'is', 'a', 'good', 'boy']"
      ]
     },
     "execution_count": 13,
     "metadata": {},
     "output_type": "execute_result"
    }
   ],
   "source": [
    "x = \"   chandan is a good boy\"\n",
    "x.split(\" \")\n"
   ]
  },
  {
   "cell_type": "code",
   "execution_count": 15,
   "id": "41a3d7a4",
   "metadata": {},
   "outputs": [
    {
     "name": "stdout",
     "output_type": "stream",
     "text": [
      "y is greater or equal to 30\n"
     ]
    }
   ],
   "source": [
    "y = 34\n",
    "if y >= 30:\n",
    "    print (\"y is greater or equal to 30\")\n",
    "elif y < 40 :\n",
    "    print (\"and y is between 30 and 40\")\n",
    "else :\n",
    "    print (\"nothing is true\")\n",
    "  "
   ]
  },
  {
   "cell_type": "code",
   "execution_count": 1,
   "id": "f1ea6441",
   "metadata": {},
   "outputs": [
    {
     "name": "stdout",
     "output_type": "stream",
     "text": [
      "20\n",
      "200\n",
      "2000\n"
     ]
    }
   ],
   "source": [
    "d = 20\n",
    "while d <= 2000:\n",
    "    print (d)\n",
    "    d = d*10"
   ]
  },
  {
   "cell_type": "code",
   "execution_count": 15,
   "id": "c8ee1ab9",
   "metadata": {},
   "outputs": [
    {
     "ename": "IndentationError",
     "evalue": "unexpected indent (<ipython-input-15-21eddf5750db>, line 3)",
     "output_type": "error",
     "traceback": [
      "\u001b[1;36m  File \u001b[1;32m\"<ipython-input-15-21eddf5750db>\"\u001b[1;36m, line \u001b[1;32m3\u001b[0m\n\u001b[1;33m    if (x == 140):\u001b[0m\n\u001b[1;37m    ^\u001b[0m\n\u001b[1;31mIndentationError\u001b[0m\u001b[1;31m:\u001b[0m unexpected indent\n"
     ]
    }
   ],
   "source": [
    "for x in range (1, 200):\n",
    "    print(x)\n",
    "     if (x == 140):\n",
    "        break"
   ]
  },
  {
   "cell_type": "code",
   "execution_count": 1,
   "id": "98156256",
   "metadata": {},
   "outputs": [
    {
     "name": "stdout",
     "output_type": "stream",
     "text": [
      "64.0\n"
     ]
    }
   ],
   "source": [
    "print (2*4**3/2)"
   ]
  },
  {
   "cell_type": "code",
   "execution_count": 20,
   "id": "e3c4b667",
   "metadata": {},
   "outputs": [
    {
     "ename": "SyntaxError",
     "evalue": "invalid syntax (<ipython-input-20-0b164931f5f4>, line 2)",
     "output_type": "error",
     "traceback": [
      "\u001b[1;36m  File \u001b[1;32m\"<ipython-input-20-0b164931f5f4>\"\u001b[1;36m, line \u001b[1;32m2\u001b[0m\n\u001b[1;33m    Print x\u001b[0m\n\u001b[1;37m          ^\u001b[0m\n\u001b[1;31mSyntaxError\u001b[0m\u001b[1;31m:\u001b[0m invalid syntax\n"
     ]
    }
   ],
   "source": [
    "x = \"Harry Potter\"\n",
    "print(x[0:5])"
   ]
  },
  {
   "cell_type": "code",
   "execution_count": 3,
   "id": "b9988729",
   "metadata": {},
   "outputs": [
    {
     "name": "stdout",
     "output_type": "stream",
     "text": [
      " hell\n"
     ]
    }
   ],
   "source": [
    "a = \" hello lord\"\n",
    "print(a[0:5])"
   ]
  },
  {
   "cell_type": "code",
   "execution_count": 14,
   "id": "e1adccff",
   "metadata": {},
   "outputs": [
    {
     "name": "stdout",
     "output_type": "stream",
     "text": [
      "300\n"
     ]
    }
   ],
   "source": [
    "a = 20\n",
    "a +=15\n",
    "a -= 15\n",
    "a *= 15\n",
    "print (a)"
   ]
  },
  {
   "cell_type": "code",
   "execution_count": 2,
   "id": "5d398308",
   "metadata": {},
   "outputs": [
    {
     "name": "stdout",
     "output_type": "stream",
     "text": [
      "True\n"
     ]
    }
   ],
   "source": [
    "a=(5!=15)\n",
    "print(a)"
   ]
  },
  {
   "cell_type": "code",
   "execution_count": 22,
   "id": "8ecef5f5",
   "metadata": {},
   "outputs": [
    {
     "data": {
      "text/plain": [
       "True"
      ]
     },
     "execution_count": 22,
     "metadata": {},
     "output_type": "execute_result"
    }
   ],
   "source": [
    "a = 2\n",
    "b = 5\n",
    "c = 10\n",
    "\n",
    "((a<b and a<c))"
   ]
  },
  {
   "cell_type": "code",
   "execution_count": 26,
   "id": "bf9a06e2",
   "metadata": {},
   "outputs": [
    {
     "name": "stdout",
     "output_type": "stream",
     "text": [
      "incorrect\n"
     ]
    }
   ],
   "source": [
    "a = 6\n",
    "b = 7\n",
    "if (type(a) is not int):\n",
    "    print (\"correct\")\n",
    "    \n",
    "else :\n",
    "     print (\"incorrect\")\n",
    "    "
   ]
  },
  {
   "cell_type": "code",
   "execution_count": 52,
   "id": "cc8fcf72",
   "metadata": {},
   "outputs": [
    {
     "name": "stdout",
     "output_type": "stream",
     "text": [
      "True\n",
      "True\n",
      "True\n"
     ]
    }
   ],
   "source": [
    "x = [8,3,5,16,\"harry\"]\n",
    "a = 8\n",
    "b = 10\n",
    "c = \"harry\"\n",
    "\n",
    "print (a in x)\n",
    "print (b not in x)\n",
    "print (c in x)\n",
    "\n"
   ]
  },
  {
   "cell_type": "code",
   "execution_count": null,
   "id": "301d6af1",
   "metadata": {},
   "outputs": [],
   "source": [
    "2**3"
   ]
  },
  {
   "cell_type": "code",
   "execution_count": null,
   "id": "da39e9ab",
   "metadata": {},
   "outputs": [],
   "source": []
  },
  {
   "cell_type": "code",
   "execution_count": null,
   "id": "935d52ba",
   "metadata": {},
   "outputs": [],
   "source": []
  }
 ],
 "metadata": {
  "kernelspec": {
   "display_name": "Python 3",
   "language": "python",
   "name": "python3"
  },
  "language_info": {
   "codemirror_mode": {
    "name": "ipython",
    "version": 3
   },
   "file_extension": ".py",
   "mimetype": "text/x-python",
   "name": "python",
   "nbconvert_exporter": "python",
   "pygments_lexer": "ipython3",
   "version": "3.6.8"
  }
 },
 "nbformat": 4,
 "nbformat_minor": 5
}
