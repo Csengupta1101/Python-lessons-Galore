{
  "nbformat": 4,
  "nbformat_minor": 0,
  "metadata": {
    "colab": {
      "name": "Advanced Python.ipynb",
      "provenance": [],
      "collapsed_sections": []
    },
    "kernelspec": {
      "name": "python3",
      "display_name": "Python 3"
    },
    "language_info": {
      "name": "python"
    }
  },
  "cells": [
    {
      "cell_type": "code",
      "metadata": {
        "colab": {
          "base_uri": "https://localhost:8080/"
        },
        "id": "2sFv3nTqPqqA",
        "outputId": "9a53531f-40cc-48ed-e7ab-41adb67a9c01"
      },
      "source": [
        "#enumarate function\n",
        "#print third , fifth and sevent element of a list with index\n",
        "l1 = [2,3,5,6,9,8,7,41,5]\n",
        "for index , item in enumerate (l1):\n",
        "  if index == 2 or index == 4 or index == 6:\n",
        "    print(index,item)"
      ],
      "execution_count": null,
      "outputs": [
        {
          "output_type": "stream",
          "name": "stdout",
          "text": [
            "2 5\n",
            "4 9\n",
            "6 7\n"
          ]
        }
      ]
    },
    {
      "cell_type": "code",
      "metadata": {
        "colab": {
          "base_uri": "https://localhost:8080/"
        },
        "id": "yGpbqyHtZZpl",
        "outputId": "6ae777a2-9480-49c7-f6a1-726b81bd8970"
      },
      "source": [
        "#List Comprehension\n",
        "#print a user input number multiplication table with list comprehension\n",
        "a = int(input())\n",
        "List1 = [a*i for i in range(1,11)]\n",
        "print(List1)\n",
        "\n",
        "\n"
      ],
      "execution_count": null,
      "outputs": [
        {
          "output_type": "stream",
          "name": "stdout",
          "text": [
            "5\n",
            "[5, 10, 15, 20, 25, 30, 35, 40, 45, 50]\n"
          ]
        }
      ]
    },
    {
      "cell_type": "code",
      "metadata": {
        "colab": {
          "base_uri": "https://localhost:8080/"
        },
        "id": "8UqHqPNEa6RB",
        "outputId": "3b0963f0-8be2-4398-e21f-78ba99888fd9"
      },
      "source": [
        "#zerodivisionerro printed as infinite\n",
        "a = int(input())\n",
        "b = int(input())\n",
        "try:\n",
        "  print(a/b)\n",
        "except:\n",
        "  print('infinite')"
      ],
      "execution_count": null,
      "outputs": [
        {
          "output_type": "stream",
          "name": "stdout",
          "text": [
            "5\n",
            "0\n",
            "infinite\n"
          ]
        }
      ]
    },
    {
      "cell_type": "code",
      "metadata": {
        "colab": {
          "base_uri": "https://localhost:8080/"
        },
        "id": "kjX32tP8v2nw",
        "outputId": "4c5bce6d-6950-427e-dda1-9e96da100d17"
      },
      "source": [
        "#lambda function\n",
        "cust_func = lambda a:(a*a)+(a+a)\n",
        "a = int(input())\n",
        "print(cust_func(a))"
      ],
      "execution_count": null,
      "outputs": [
        {
          "output_type": "stream",
          "name": "stdout",
          "text": [
            "2\n",
            "8\n"
          ]
        }
      ]
    },
    {
      "cell_type": "code",
      "metadata": {
        "colab": {
          "base_uri": "https://localhost:8080/"
        },
        "id": "_RZUZZ0UqbHv",
        "outputId": "a2209030-c8c7-4f7a-c9a1-1d85673c8b1b"
      },
      "source": [
        "Mult_func = lambda a,b,c:(a+b)*(b*c)*(a+c)\n",
        "a = int(input())\n",
        "b = int(input())\n",
        "c = int(input())\n",
        "print(Mult_func(a,b,c))\n"
      ],
      "execution_count": null,
      "outputs": [
        {
          "output_type": "stream",
          "name": "stdout",
          "text": [
            "5\n",
            "6\n",
            "9\n",
            "8316\n"
          ]
        }
      ]
    },
    {
      "cell_type": "code",
      "metadata": {
        "colab": {
          "base_uri": "https://localhost:8080/"
        },
        "id": "LvFxxoI2v7Ty",
        "outputId": "2ab29ccd-dec9-480f-c5b1-1a63f0cc7fd6"
      },
      "source": [
        "#list joining\n",
        "print('*******')\n",
        "l1 = ['*     *','*     *','*     *','*     *','*     *','*******']\n",
        "sl1 = '\\n'.join(l1)\n",
        "print(sl1)\n"
      ],
      "execution_count": null,
      "outputs": [
        {
          "output_type": "stream",
          "name": "stdout",
          "text": [
            "*******\n",
            "*     *\n",
            "*     *\n",
            "*     *\n",
            "*     *\n",
            "*     *\n",
            "*******\n"
          ]
        }
      ]
    },
    {
      "cell_type": "code",
      "metadata": {
        "colab": {
          "base_uri": "https://localhost:8080/"
        },
        "id": "rOdQfWJP2H92",
        "outputId": "380288d4-586e-4063-af9e-c1cda156fa17"
      },
      "source": [
        "#square method\n",
        "def square(num):\n",
        "  return num*num\n",
        "a = int(input())\n",
        "print(square(a))"
      ],
      "execution_count": null,
      "outputs": [
        {
          "output_type": "stream",
          "name": "stdout",
          "text": [
            "25\n",
            "625\n"
          ]
        }
      ]
    },
    {
      "cell_type": "code",
      "metadata": {
        "colab": {
          "base_uri": "https://localhost:8080/"
        },
        "id": "KSvstLk56sLP",
        "outputId": "b7b52030-a61d-4f9f-9013-3f7cef80409d"
      },
      "source": [
        "#list method \n",
        "a = int(input())\n",
        "b = int(input())\n",
        "c = int(input())\n",
        "l1 = [a,b,c]\n",
        "l2= []\n",
        "for item in l1:\n",
        "  l2.append(square(item))\n",
        "print(l2)\n"
      ],
      "execution_count": null,
      "outputs": [
        {
          "output_type": "stream",
          "name": "stdout",
          "text": [
            "5\n",
            "6\n",
            "8\n",
            "[25, 36, 64]\n"
          ]
        }
      ]
    },
    {
      "cell_type": "code",
      "metadata": {
        "id": "6_BHm8yb7I4w"
      },
      "source": [
        "69\n"
      ],
      "execution_count": null,
      "outputs": []
    }
  ]
}