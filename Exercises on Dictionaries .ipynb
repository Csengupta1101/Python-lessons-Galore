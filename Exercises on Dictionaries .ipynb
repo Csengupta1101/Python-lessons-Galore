{
 "cells": [
  {
   "cell_type": "markdown",
   "metadata": {},
   "source": [
    "##### 1. Find the maximum and minimum scored subject and it's marks from the given progress report(Dictionary) without using inbuilt function (min() and max())\n",
    "* Marks = {'Physics': 92, 'Math': 65, 'History': 35,'Computer': 88, 'Language': 82}"
   ]
  },
  {
   "cell_type": "code",
   "execution_count": 96,
   "metadata": {
    "scrolled": true
   },
   "outputs": [
    {
     "name": "stdout",
     "output_type": "stream",
     "text": [
      "All Subject Marks: {'Physics': 92, 'Math': 65, 'History': 35, 'Computer': 88, 'Language': 82}\n",
      "Maximum mark scored in subject ('Physics', 92)\n",
      "Minimum mark scored in subject ('History', 35)\n"
     ]
    }
   ],
   "source": [
    "def mini(marks):\n",
    "    current_min=list(marks.values())[0]\n",
    "    for k, v in marks.items():\n",
    "        if v < current_min:\n",
    "            current_min = v\n",
    "            sub_min_score = k\n",
    "    return sub_min_score, current_min\n",
    "\n",
    "def maxi(marks):\n",
    "    current_max=list(marks.values())[-1]\n",
    "    for k, v in marks.items():\n",
    "        if v > current_max:\n",
    "            current_max = v\n",
    "            sub_max_score = k\n",
    "    return sub_max_score, current_max\n",
    "\n",
    "Marks = {'Physics': 92, 'Math': 65, 'History': 35,'Computer': 88, 'Language': 82}\n",
    "print(\"All Subject Marks: \" + str(Marks))\n",
    "\n",
    "print(f'Maximum mark scored in subject {maxi(Marks)}')\n",
    "print(f'Minimum mark scored in subject {mini(Marks)}')"
   ]
  },
  {
   "cell_type": "markdown",
   "metadata": {},
   "source": [
    "##### Write a Python program to count the total strength and average scores of students in a primary school\n",
    "\n",
    "school = [{'class': '1st', 'count': 35, 'avg': 88},\n",
    "         {'class': '2nd', 'count': 41, 'avg': 81},\n",
    "         {'class': '3rd', 'count': 29, 'avg': 79},\n",
    "         {'class': '4th', 'count': 32, 'avg': 68},\n",
    "         {'class': '5th', 'count': 38, 'avg': 86}]"
   ]
  },
  {
   "cell_type": "code",
   "execution_count": 118,
   "metadata": {},
   "outputs": [
    {
     "name": "stdout",
     "output_type": "stream",
     "text": [
      "Total Strength 175\n",
      "Average marks scored by students 80.4\n"
     ]
    }
   ],
   "source": [
    "school = [{'class': '1st', 'count': 35, 'avg': 88},\n",
    "         {'class': '2nd', 'count': 41, 'avg': 81},\n",
    "         {'class': '3rd', 'count': 29, 'avg': 79},\n",
    "         {'class': '4th', 'count': 32, 'avg': 68},\n",
    "         {'class': '5th', 'count': 38, 'avg': 86}]\n",
    "\n",
    "strength = sum(d['count'] for d in school)\n",
    "avg_score = sum(d['avg'] for d in school)/len(school)\n",
    "\n",
    "print(f'Total Strength {strength}')\n",
    "print(f'Average marks scored by students {avg_score}')"
   ]
  },
  {
   "cell_type": "markdown",
   "metadata": {},
   "source": [
    "##### Write a python program to create a billing system.\n",
    "* stock in shop --> banana-24, apple-43, orange-25, bread-3\n",
    "* price of the respective products in stock banana-1, apple-8, orange-1.5, bread-0.5\n",
    "* items in customer's shopping cart 'banana', 'bread', 'apple'\n",
    "\n",
    "calculate the respective total amount and reduce the stock if item sold and print the remaining stock and the total bill\n"
   ]
  },
  {
   "cell_type": "code",
   "execution_count": 127,
   "metadata": {},
   "outputs": [
    {
     "name": "stdout",
     "output_type": "stream",
     "text": [
      "Reamining stock in inventory {'banana': 23, 'apple': 42, 'orange': 25, 'bread': 2}\n",
      "Total amount 9.5\n"
     ]
    }
   ],
   "source": [
    "shopping_list = [\"banana\", \"bread\", \"apple\"]\n",
    "stock = {\"banana\": 24, \"apple\": 43, \"orange\": 25, \"bread\": 3}\n",
    "prices = {\"banana\": 1, \"apple\": 8, \"orange\": 1.5, \"bread\": 0.5}\n",
    "\n",
    "\n",
    "def compute_bill(food):\n",
    "    total=0\n",
    "    for x in food:\n",
    "        price= prices[x]\n",
    "        if stock[x]>0:\n",
    "           total=total + price\n",
    "           stock[x]=stock[x] -1\n",
    "    return stock, total\n",
    "\n",
    "stock_remaining, total_bill = compute_bill(shopping_list)\n",
    "print(f'Reamining stock in inventory {stock_remaining}')\n",
    "print(f'Total amount {total_bill}')"
   ]
  },
  {
   "cell_type": "code",
   "execution_count": null,
   "metadata": {},
   "outputs": [],
   "source": []
  }
 ],
 "metadata": {
  "kernelspec": {
   "display_name": "Python 3",
   "language": "python",
   "name": "python3"
  },
  "language_info": {
   "codemirror_mode": {
    "name": "ipython",
    "version": 3
   },
   "file_extension": ".py",
   "mimetype": "text/x-python",
   "name": "python",
   "nbconvert_exporter": "python",
   "pygments_lexer": "ipython3",
   "version": "3.6.8"
  }
 },
 "nbformat": 4,
 "nbformat_minor": 4
}
