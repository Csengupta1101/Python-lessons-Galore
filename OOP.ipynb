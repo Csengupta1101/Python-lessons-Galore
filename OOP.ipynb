{
 "cells": [
  {
   "cell_type": "code",
   "execution_count": 3,
   "id": "bbf1f3fe",
   "metadata": {},
   "outputs": [
    {
     "name": "stdout",
     "output_type": "stream",
     "text": [
      "salary for this employee working in facebook is 10000\n"
     ]
    }
   ],
   "source": [
    "class Worker:\n",
    "    company = 'facebook'\n",
    "    def getsalary(self):\n",
    "        print(f\"salary for this employee working in {self.company} is {self.salary}\")\n",
    "joy = Worker()\n",
    "joy.salary = 10000\n",
    "joy.getsalary()"
   ]
  },
  {
   "cell_type": "code",
   "execution_count": 2,
   "id": "f1816a4c",
   "metadata": {},
   "outputs": [
    {
     "name": "stdout",
     "output_type": "stream",
     "text": [
      "the name of the first employee is joy and his/her email id is joy@google.com and salary is 50000\n",
      "the name of the first employee is peter and his/her email id is peter@google.com and salary is 65000\n",
      "the name of the first employee is joy and his/her email id is harry@google.com and salary is 45000\n"
     ]
    }
   ],
   "source": [
    "class Employee:\n",
    "    def __init__(self,name,salary):\n",
    "        self.name = name\n",
    "        self.salary = salary\n",
    "        self.email = name + '@google.com'\n",
    "emp_1 = Employee(\"joy\",50000)\n",
    "emp_2= Employee(\"peter\",65000)\n",
    "emp_3= Employee(\"harry\",45000)\n",
    "print(f'the name of the first employee is {emp_1.name} and his/her email id is {emp_1.email} and salary is {emp_1.salary}')\n",
    "print(f'the name of the first employee is {emp_2.name} and his/her email id is {emp_2.email} and salary is {emp_2.salary}')   \n",
    "print(f'the name of the first employee is {emp_1.name} and his/her email id is {emp_3.email} and salary is {emp_3.salary}')       "
   ]
  },
  {
   "cell_type": "code",
   "execution_count": 7,
   "id": "5c9f1b39",
   "metadata": {},
   "outputs": [
    {
     "name": "stdout",
     "output_type": "stream",
     "text": [
      "Microsoft\n"
     ]
    }
   ],
   "source": [
    "class Programmer:\n",
    "    company = 'Microsoft'\n",
    "    def __init__(self,name,phone,pay):\n",
    "        self.name = name\n",
    "        self.phone = phone\n",
    "        self.pay = pay\n",
    "        self.email = name +'@microsoft.com'\n",
    "programmer1 = Programmer('harry',9836223275,50000)\n",
    "print(programmer1.company)\n"
   ]
  },
  {
   "cell_type": "code",
   "execution_count": 3,
   "id": "85323e35",
   "metadata": {},
   "outputs": [
    {
     "name": "stdout",
     "output_type": "stream",
     "text": [
      "the name of the employee is joy , his/her salary is 56000 , they are working in gmail & their email id is joy@google.com and working in google\n",
      "the name of the employee is akash , his/her salary is 60000 , they are working in gtalk & their email id is akash@google.com and working in google\n",
      "the name of the employee is peter , his/her salary is 75000 , they are working in cloud & their email id is peter@google.com and working in google\n",
      "the name of the employee is harry , his/her salary is 48000 , they are working in ghome & their email id is harry@google.com and working in google\n",
      "the name of the employee is rahul , his/her salary is 22000 , they are working in maps & their email id is rahul@google.com and working in google\n"
     ]
    }
   ],
   "source": [
    "class Employee:\n",
    "    Company = 'google'\n",
    "    def __init__(self,name,salary,product):\n",
    "        self.name = name\n",
    "        self.salary = salary\n",
    "        self.product = product\n",
    "        self.email = name + '@google.com'\n",
    "    def getinfo(self):\n",
    "        print (f'the name of the employee is {self.name} , his/her salary is {self.salary} , they are working in {self.product} & their email id is {self.email} and working in {self.Company}')\n",
    "joy = Employee('joy', 56000,'gmail')\n",
    "akash = Employee('akash', 60000,'gtalk')\n",
    "peter = Employee('peter', 75000,'cloud')\n",
    "harry= Employee('harry', 48000,'ghome')\n",
    "rahul = Employee('rahul', 22000,'maps')\n",
    "joy.getinfo()\n",
    "akash.getinfo()\n",
    "peter.getinfo()\n",
    "harry.getinfo()\n",
    "rahul.getinfo()"
   ]
  },
  {
   "cell_type": "code",
   "execution_count": 4,
   "id": "8f074461",
   "metadata": {},
   "outputs": [
    {
     "name": "stdout",
     "output_type": "stream",
     "text": [
      "choose 1 for square\n",
      "choose 2 for cube\n",
      "choose 3 for squareroot\n",
      "the option chosen is: 3\n",
      "the number to perform calculation on : 36\n",
      "6.0\n"
     ]
    }
   ],
   "source": [
    "print('choose 1 for square')\n",
    "print('choose 2 for cube')\n",
    "print('choose 3 for squareroot')\n",
    "Option = int(input('the option chosen is: '))\n",
    "Number = int(input('the number to perform calculation on : '))\n",
    "class Calculator:\n",
    "\n",
    "    def calculation(self):\n",
    "        if (Option == 1):\n",
    "            print(Number**2)\n",
    "        elif (Option == 2):\n",
    "            print(Number**3)\n",
    "        elif (Option == 3):\n",
    "            print(Number**0.5)\n",
    "Result = Calculator()\n",
    "Result.calculation()"
   ]
  },
  {
   "cell_type": "code",
   "execution_count": 15,
   "id": "944b0867",
   "metadata": {},
   "outputs": [
    {
     "name": "stdout",
     "output_type": "stream",
     "text": [
      "**************\n",
      "The available seats on the train is 50\n",
      "**************\n",
      "The ticket price of the train is 450\n",
      "*************\n",
      "your ticket is booked and your seat number is 50\n",
      "**************\n",
      "The available seats on the train is 49\n",
      "**************\n",
      "The ticket price of the train is 675.0\n"
     ]
    }
   ],
   "source": [
    "class Train:\n",
    "    def __init__(self,name,seats,fare):\n",
    "        self.name = name\n",
    "        self.seats = seats\n",
    "        self.fare = fare\n",
    "    def name(self):\n",
    "        print('**************')\n",
    "        print(f'The name of the train is {self.name}')\n",
    "    def status(self):\n",
    "        print('**************')\n",
    "        print(f'The available seats on the train is {self.seats}')\n",
    "    def fares(self):\n",
    "        print('**************')\n",
    "        print(f'The ticket price of the train is {self.fare}')\n",
    "    def bookticket(self):\n",
    "        print('*************')\n",
    "        if (self.seats>0):\n",
    "            print(f'your ticket is booked and your seat number is {self.seats}')\n",
    "            self.seats = self.seats - 1\n",
    "            self.fare = self.fare*1.5\n",
    "        else:\n",
    "            print('sorry the train is full')\n",
    "    def cancelticket(self):\n",
    "        print('*************')\n",
    "        print('your ticket is succesfully cancelled')\n",
    "        self.seats = self.seats + 1\n",
    "\n",
    "Intercity = Train('Intercity',50,450)\n",
    "Lalgola = Train('Lalgola',70,530)\n",
    "Intercity.status()\n",
    "Intercity.fares()\n",
    "Intercity.bookticket()\n",
    "Intercity.status()\n",
    "Intercity.fares()"
   ]
  },
  {
   "cell_type": "code",
   "execution_count": 10,
   "id": "f612aa6c",
   "metadata": {},
   "outputs": [
    {
     "name": "stdout",
     "output_type": "stream",
     "text": [
      "the number to get multiplication of: 5\n",
      "0\n",
      "5\n",
      "10\n",
      "15\n",
      "20\n",
      "25\n",
      "30\n",
      "35\n",
      "40\n",
      "45\n"
     ]
    }
   ],
   "source": [
    "n = int(input('the number to get multiplication of: '))\n",
    "for i in range(10):\n",
    "    print(n*i)   "
   ]
  },
  {
   "cell_type": "code",
   "execution_count": 19,
   "id": "07901da0",
   "metadata": {},
   "outputs": [
    {
     "name": "stdout",
     "output_type": "stream",
     "text": [
      "google\n",
      "google\n",
      "google\n",
      "the language used by the developer is python\n",
      "the language used by the data scientist is R\n"
     ]
    }
   ],
   "source": [
    "class Employee:\n",
    "    company = 'google'\n",
    "class Developer(Employee):\n",
    "    language = 'python'\n",
    "    def getlang(self):\n",
    "        print(f'the language used by the developer is {self.language}')\n",
    "class Datascientist(Employee):\n",
    "    language = 'R'\n",
    "    def getlang(self):\n",
    "        print(f'the language used by the data scientist is {self.language}')\n",
    "e = Employee()\n",
    "dv = Developer()\n",
    "ds = Datascientist()\n",
    "print(e.company)\n",
    "print(dv.company)\n",
    "print(ds.company)\n",
    "dv.getlang()\n",
    "ds.getlang()"
   ]
  },
  {
   "cell_type": "code",
   "execution_count": 24,
   "id": "754c7805",
   "metadata": {},
   "outputs": [
    {
     "name": "stdout",
     "output_type": "stream",
     "text": [
      "your freelancing level is 0 , employee band is 4 ,your company is google\n",
      "your level is upgraded\n",
      "your position band is upgraded\n",
      "your freelancing level is 1 , employee band is 5 ,your company is google\n"
     ]
    }
   ],
   "source": [
    "#Multiple Inheritance\n",
    "class Freelancer:\n",
    "    company = 'facebook'\n",
    "    level = 0\n",
    "    def upgradelevel(self):\n",
    "        print('your level is upgraded')\n",
    "        self.level = self.level + 1\n",
    "class Employee:\n",
    "    company = 'google'\n",
    "    positionband = 4\n",
    "    def upgradeband(self):\n",
    "        print('your position band is upgraded')\n",
    "        self.positionband = self.positionband + 1\n",
    "class developer(Employee,Freelancer):\n",
    "    def statusupdate(self):\n",
    "        print(f'your freelancing level is {self.level} , employee band is {self.positionband} ,your company is {self.company}')\n",
    "D = developer()\n",
    "D.statusupdate()\n",
    "D.upgradelevel()\n",
    "D.upgradeband()\n",
    "D.statusupdate()\n",
    "    "
   ]
  },
  {
   "cell_type": "code",
   "execution_count": null,
   "id": "2d02514e",
   "metadata": {},
   "outputs": [],
   "source": []
  }
 ],
 "metadata": {
  "kernelspec": {
   "display_name": "Python 3",
   "language": "python",
   "name": "python3"
  },
  "language_info": {
   "codemirror_mode": {
    "name": "ipython",
    "version": 3
   },
   "file_extension": ".py",
   "mimetype": "text/x-python",
   "name": "python",
   "nbconvert_exporter": "python",
   "pygments_lexer": "ipython3",
   "version": "3.6.8"
  }
 },
 "nbformat": 4,
 "nbformat_minor": 5
}
